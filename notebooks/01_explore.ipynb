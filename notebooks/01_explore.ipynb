{
 "cells": [
  {
   "cell_type": "code",
   "execution_count": 5,
   "id": "initial_id",
   "metadata": {
    "collapsed": true,
    "ExecuteTime": {
     "end_time": "2024-03-21T18:54:00.704067Z",
     "start_time": "2024-03-21T18:54:00.699139Z"
    }
   },
   "outputs": [],
   "source": [
    "import pandas as pd"
   ]
  },
  {
   "cell_type": "code",
   "outputs": [
    {
     "name": "stdout",
     "output_type": "stream",
     "text": [
      "<class 'pandas.core.frame.DataFrame'>\n",
      "RangeIndex: 268255 entries, 0 to 268254\n",
      "Data columns (total 24 columns):\n",
      " #   Column        Non-Null Count   Dtype  \n",
      "---  ------        --------------   -----  \n",
      " 0   Maker         268255 non-null  object \n",
      " 1   Genmodel      268255 non-null  object \n",
      " 2   Genmodel_ID   268255 non-null  object \n",
      " 3   Adv_ID        268255 non-null  object \n",
      " 4   Adv_year      268255 non-null  int64  \n",
      " 5   Adv_month     268255 non-null  int64  \n",
      " 6   Color         246380 non-null  object \n",
      " 7   Reg_year      268248 non-null  float64\n",
      " 8   Bodytype      267301 non-null  object \n",
      " 9   Runned_Miles  267200 non-null  object \n",
      " 10  Engin_size    266191 non-null  object \n",
      " 11  Gearbox       268088 non-null  object \n",
      " 12  Fuel_type     267846 non-null  object \n",
      " 13  Price         267110 non-null  float64\n",
      " 14  Engine_power  236444 non-null  float64\n",
      " 15  Annual_Tax    221580 non-null  object \n",
      " 16  Wheelbase     240257 non-null  float64\n",
      " 17  Height        240454 non-null  float64\n",
      " 18  Width         240175 non-null  float64\n",
      " 19  Length        240454 non-null  float64\n",
      " 20  Average_mpg   226322 non-null  object \n",
      " 21  Top_speed     224653 non-null  object \n",
      " 22  Seat_num      261781 non-null  float64\n",
      " 23  Door_num      263702 non-null  float64\n",
      "dtypes: float64(9), int64(2), object(13)\n",
      "memory usage: 49.1+ MB\n"
     ]
    }
   ],
   "source": [
    "df = pd.read_csv(\"../data/Ad_table (extra).csv\")\n",
    "df.info()"
   ],
   "metadata": {
    "collapsed": false,
    "ExecuteTime": {
     "end_time": "2024-03-21T18:54:03.242625Z",
     "start_time": "2024-03-21T18:54:01.729804Z"
    }
   },
   "id": "80a4df916b7d21b4",
   "execution_count": 6
  },
  {
   "cell_type": "code",
   "outputs": [
    {
     "data": {
      "text/plain": "     Maker Genmodel Genmodel_ID   Adv_ID  Adv_year  Adv_month   Color  \\\n0  Bentley   Arnage        10_1  10_1$$1      2018          4  Silver   \n1  Bentley   Arnage        10_1  10_1$$2      2018          6    Grey   \n2  Bentley   Arnage        10_1  10_1$$3      2017         11    Blue   \n3  Bentley   Arnage        10_1  10_1$$4      2018          4   Green   \n4  Bentley   Arnage        10_1  10_1$$5      2017         11    Grey   \n\n   Reg_year Bodytype Runned_Miles  ... Engine_power Annual_Tax Wheelbase  \\\n0    2000.0   Saloon        60000  ...          NaN        NaN    3116.0   \n1    2002.0   Saloon        44000  ...        450.0        315    3116.0   \n2    2002.0   Saloon        55000  ...        400.0        315    3116.0   \n3    2003.0   Saloon        14000  ...          NaN        NaN    3116.0   \n4    2003.0   Saloon        61652  ...          NaN        NaN    3116.0   \n\n   Height   Width  Length  Average_mpg  Top_speed  Seat_num  Door_num  \n0  1515.0  2125.0  5390.0          NaN        NaN       5.0       4.0  \n1  1515.0  2125.0  5390.0     13.7 mpg    179 mph       5.0       4.0  \n2  1515.0  2125.0  5390.0     14.7 mpg    155 mph       5.0       4.0  \n3  1515.0  2125.0  5390.0          NaN        NaN       5.0       4.0  \n4  1515.0  2125.0  5390.0          NaN        NaN       5.0       4.0  \n\n[5 rows x 24 columns]",
      "text/html": "<div>\n<style scoped>\n    .dataframe tbody tr th:only-of-type {\n        vertical-align: middle;\n    }\n\n    .dataframe tbody tr th {\n        vertical-align: top;\n    }\n\n    .dataframe thead th {\n        text-align: right;\n    }\n</style>\n<table border=\"1\" class=\"dataframe\">\n  <thead>\n    <tr style=\"text-align: right;\">\n      <th></th>\n      <th>Maker</th>\n      <th>Genmodel</th>\n      <th>Genmodel_ID</th>\n      <th>Adv_ID</th>\n      <th>Adv_year</th>\n      <th>Adv_month</th>\n      <th>Color</th>\n      <th>Reg_year</th>\n      <th>Bodytype</th>\n      <th>Runned_Miles</th>\n      <th>...</th>\n      <th>Engine_power</th>\n      <th>Annual_Tax</th>\n      <th>Wheelbase</th>\n      <th>Height</th>\n      <th>Width</th>\n      <th>Length</th>\n      <th>Average_mpg</th>\n      <th>Top_speed</th>\n      <th>Seat_num</th>\n      <th>Door_num</th>\n    </tr>\n  </thead>\n  <tbody>\n    <tr>\n      <th>0</th>\n      <td>Bentley</td>\n      <td>Arnage</td>\n      <td>10_1</td>\n      <td>10_1$$1</td>\n      <td>2018</td>\n      <td>4</td>\n      <td>Silver</td>\n      <td>2000.0</td>\n      <td>Saloon</td>\n      <td>60000</td>\n      <td>...</td>\n      <td>NaN</td>\n      <td>NaN</td>\n      <td>3116.0</td>\n      <td>1515.0</td>\n      <td>2125.0</td>\n      <td>5390.0</td>\n      <td>NaN</td>\n      <td>NaN</td>\n      <td>5.0</td>\n      <td>4.0</td>\n    </tr>\n    <tr>\n      <th>1</th>\n      <td>Bentley</td>\n      <td>Arnage</td>\n      <td>10_1</td>\n      <td>10_1$$2</td>\n      <td>2018</td>\n      <td>6</td>\n      <td>Grey</td>\n      <td>2002.0</td>\n      <td>Saloon</td>\n      <td>44000</td>\n      <td>...</td>\n      <td>450.0</td>\n      <td>315</td>\n      <td>3116.0</td>\n      <td>1515.0</td>\n      <td>2125.0</td>\n      <td>5390.0</td>\n      <td>13.7 mpg</td>\n      <td>179 mph</td>\n      <td>5.0</td>\n      <td>4.0</td>\n    </tr>\n    <tr>\n      <th>2</th>\n      <td>Bentley</td>\n      <td>Arnage</td>\n      <td>10_1</td>\n      <td>10_1$$3</td>\n      <td>2017</td>\n      <td>11</td>\n      <td>Blue</td>\n      <td>2002.0</td>\n      <td>Saloon</td>\n      <td>55000</td>\n      <td>...</td>\n      <td>400.0</td>\n      <td>315</td>\n      <td>3116.0</td>\n      <td>1515.0</td>\n      <td>2125.0</td>\n      <td>5390.0</td>\n      <td>14.7 mpg</td>\n      <td>155 mph</td>\n      <td>5.0</td>\n      <td>4.0</td>\n    </tr>\n    <tr>\n      <th>3</th>\n      <td>Bentley</td>\n      <td>Arnage</td>\n      <td>10_1</td>\n      <td>10_1$$4</td>\n      <td>2018</td>\n      <td>4</td>\n      <td>Green</td>\n      <td>2003.0</td>\n      <td>Saloon</td>\n      <td>14000</td>\n      <td>...</td>\n      <td>NaN</td>\n      <td>NaN</td>\n      <td>3116.0</td>\n      <td>1515.0</td>\n      <td>2125.0</td>\n      <td>5390.0</td>\n      <td>NaN</td>\n      <td>NaN</td>\n      <td>5.0</td>\n      <td>4.0</td>\n    </tr>\n    <tr>\n      <th>4</th>\n      <td>Bentley</td>\n      <td>Arnage</td>\n      <td>10_1</td>\n      <td>10_1$$5</td>\n      <td>2017</td>\n      <td>11</td>\n      <td>Grey</td>\n      <td>2003.0</td>\n      <td>Saloon</td>\n      <td>61652</td>\n      <td>...</td>\n      <td>NaN</td>\n      <td>NaN</td>\n      <td>3116.0</td>\n      <td>1515.0</td>\n      <td>2125.0</td>\n      <td>5390.0</td>\n      <td>NaN</td>\n      <td>NaN</td>\n      <td>5.0</td>\n      <td>4.0</td>\n    </tr>\n  </tbody>\n</table>\n<p>5 rows × 24 columns</p>\n</div>"
     },
     "execution_count": 7,
     "metadata": {},
     "output_type": "execute_result"
    }
   ],
   "source": [
    "df.head()"
   ],
   "metadata": {
    "collapsed": false,
    "ExecuteTime": {
     "end_time": "2024-03-21T18:54:07.551272Z",
     "start_time": "2024-03-21T18:54:07.509525Z"
    }
   },
   "id": "bc576aa0dc95c6a1",
   "execution_count": 7
  }
 ],
 "metadata": {
  "kernelspec": {
   "display_name": "Python 3",
   "language": "python",
   "name": "python3"
  },
  "language_info": {
   "codemirror_mode": {
    "name": "ipython",
    "version": 2
   },
   "file_extension": ".py",
   "mimetype": "text/x-python",
   "name": "python",
   "nbconvert_exporter": "python",
   "pygments_lexer": "ipython2",
   "version": "2.7.6"
  }
 },
 "nbformat": 4,
 "nbformat_minor": 5
}

{
 "cells": [
  {
   "cell_type": "code",
   "execution_count": 174,
   "id": "initial_id",
   "metadata": {
    "collapsed": true,
    "ExecuteTime": {
     "end_time": "2024-03-23T22:13:03.581334Z",
     "start_time": "2024-03-23T22:13:03.577629Z"
    }
   },
   "outputs": [],
   "source": [
    "import pandas as pd\n",
    "pd.set_option('display.float_format', lambda x: '%.2f' % x)"
   ]
  },
  {
   "cell_type": "code",
   "outputs": [
    {
     "name": "stdout",
     "output_type": "stream",
     "text": [
      "<class 'pandas.core.frame.DataFrame'>\n",
      "RangeIndex: 268255 entries, 0 to 268254\n",
      "Data columns (total 24 columns):\n",
      " #   Column        Non-Null Count   Dtype  \n",
      "---  ------        --------------   -----  \n",
      " 0   Maker         268255 non-null  object \n",
      " 1   Genmodel      268255 non-null  object \n",
      " 2   Genmodel_ID   268255 non-null  object \n",
      " 3   Adv_ID        268255 non-null  object \n",
      " 4   Adv_year      268255 non-null  int64  \n",
      " 5   Adv_month     268255 non-null  int64  \n",
      " 6   Color         246380 non-null  object \n",
      " 7   Reg_year      268248 non-null  float64\n",
      " 8   Bodytype      267301 non-null  object \n",
      " 9   Runned_Miles  267200 non-null  object \n",
      " 10  Engin_size    266191 non-null  object \n",
      " 11  Gearbox       268088 non-null  object \n",
      " 12  Fuel_type     267846 non-null  object \n",
      " 13  Price         267110 non-null  float64\n",
      " 14  Engine_power  236444 non-null  float64\n",
      " 15  Annual_Tax    221580 non-null  object \n",
      " 16  Wheelbase     240257 non-null  float64\n",
      " 17  Height        240454 non-null  float64\n",
      " 18  Width         240175 non-null  float64\n",
      " 19  Length        240454 non-null  float64\n",
      " 20  Average_mpg   226322 non-null  object \n",
      " 21  Top_speed     224653 non-null  object \n",
      " 22  Seat_num      261781 non-null  float64\n",
      " 23  Door_num      263702 non-null  float64\n",
      "dtypes: float64(9), int64(2), object(13)\n",
      "memory usage: 49.1+ MB\n"
     ]
    }
   ],
   "source": [
    "df = pd.read_csv(\"../data/ad_table.csv\")\n",
    "df.info()"
   ],
   "metadata": {
    "collapsed": false,
    "ExecuteTime": {
     "end_time": "2024-03-23T20:23:05.641403Z",
     "start_time": "2024-03-23T20:23:04.054189Z"
    }
   },
   "id": "80a4df916b7d21b4",
   "execution_count": 84
  },
  {
   "cell_type": "code",
   "outputs": [
    {
     "data": {
      "text/plain": "     Maker Genmodel Genmodel_ID   Adv_ID  Adv_year  Adv_month   Color  \\\n0  Bentley   Arnage        10_1  10_1$$1      2018          4  Silver   \n1  Bentley   Arnage        10_1  10_1$$2      2018          6    Grey   \n2  Bentley   Arnage        10_1  10_1$$3      2017         11    Blue   \n3  Bentley   Arnage        10_1  10_1$$4      2018          4   Green   \n4  Bentley   Arnage        10_1  10_1$$5      2017         11    Grey   \n\n   Reg_year Bodytype Runned_Miles  ... Engine_power Annual_Tax Wheelbase  \\\n0    2000.0   Saloon        60000  ...          NaN        NaN    3116.0   \n1    2002.0   Saloon        44000  ...        450.0        315    3116.0   \n2    2002.0   Saloon        55000  ...        400.0        315    3116.0   \n3    2003.0   Saloon        14000  ...          NaN        NaN    3116.0   \n4    2003.0   Saloon        61652  ...          NaN        NaN    3116.0   \n\n   Height   Width  Length  Average_mpg  Top_speed  Seat_num  Door_num  \n0  1515.0  2125.0  5390.0          NaN        NaN       5.0       4.0  \n1  1515.0  2125.0  5390.0     13.7 mpg    179 mph       5.0       4.0  \n2  1515.0  2125.0  5390.0     14.7 mpg    155 mph       5.0       4.0  \n3  1515.0  2125.0  5390.0          NaN        NaN       5.0       4.0  \n4  1515.0  2125.0  5390.0          NaN        NaN       5.0       4.0  \n\n[5 rows x 24 columns]",
      "text/html": "<div>\n<style scoped>\n    .dataframe tbody tr th:only-of-type {\n        vertical-align: middle;\n    }\n\n    .dataframe tbody tr th {\n        vertical-align: top;\n    }\n\n    .dataframe thead th {\n        text-align: right;\n    }\n</style>\n<table border=\"1\" class=\"dataframe\">\n  <thead>\n    <tr style=\"text-align: right;\">\n      <th></th>\n      <th>Maker</th>\n      <th>Genmodel</th>\n      <th>Genmodel_ID</th>\n      <th>Adv_ID</th>\n      <th>Adv_year</th>\n      <th>Adv_month</th>\n      <th>Color</th>\n      <th>Reg_year</th>\n      <th>Bodytype</th>\n      <th>Runned_Miles</th>\n      <th>...</th>\n      <th>Engine_power</th>\n      <th>Annual_Tax</th>\n      <th>Wheelbase</th>\n      <th>Height</th>\n      <th>Width</th>\n      <th>Length</th>\n      <th>Average_mpg</th>\n      <th>Top_speed</th>\n      <th>Seat_num</th>\n      <th>Door_num</th>\n    </tr>\n  </thead>\n  <tbody>\n    <tr>\n      <th>0</th>\n      <td>Bentley</td>\n      <td>Arnage</td>\n      <td>10_1</td>\n      <td>10_1$$1</td>\n      <td>2018</td>\n      <td>4</td>\n      <td>Silver</td>\n      <td>2000.0</td>\n      <td>Saloon</td>\n      <td>60000</td>\n      <td>...</td>\n      <td>NaN</td>\n      <td>NaN</td>\n      <td>3116.0</td>\n      <td>1515.0</td>\n      <td>2125.0</td>\n      <td>5390.0</td>\n      <td>NaN</td>\n      <td>NaN</td>\n      <td>5.0</td>\n      <td>4.0</td>\n    </tr>\n    <tr>\n      <th>1</th>\n      <td>Bentley</td>\n      <td>Arnage</td>\n      <td>10_1</td>\n      <td>10_1$$2</td>\n      <td>2018</td>\n      <td>6</td>\n      <td>Grey</td>\n      <td>2002.0</td>\n      <td>Saloon</td>\n      <td>44000</td>\n      <td>...</td>\n      <td>450.0</td>\n      <td>315</td>\n      <td>3116.0</td>\n      <td>1515.0</td>\n      <td>2125.0</td>\n      <td>5390.0</td>\n      <td>13.7 mpg</td>\n      <td>179 mph</td>\n      <td>5.0</td>\n      <td>4.0</td>\n    </tr>\n    <tr>\n      <th>2</th>\n      <td>Bentley</td>\n      <td>Arnage</td>\n      <td>10_1</td>\n      <td>10_1$$3</td>\n      <td>2017</td>\n      <td>11</td>\n      <td>Blue</td>\n      <td>2002.0</td>\n      <td>Saloon</td>\n      <td>55000</td>\n      <td>...</td>\n      <td>400.0</td>\n      <td>315</td>\n      <td>3116.0</td>\n      <td>1515.0</td>\n      <td>2125.0</td>\n      <td>5390.0</td>\n      <td>14.7 mpg</td>\n      <td>155 mph</td>\n      <td>5.0</td>\n      <td>4.0</td>\n    </tr>\n    <tr>\n      <th>3</th>\n      <td>Bentley</td>\n      <td>Arnage</td>\n      <td>10_1</td>\n      <td>10_1$$4</td>\n      <td>2018</td>\n      <td>4</td>\n      <td>Green</td>\n      <td>2003.0</td>\n      <td>Saloon</td>\n      <td>14000</td>\n      <td>...</td>\n      <td>NaN</td>\n      <td>NaN</td>\n      <td>3116.0</td>\n      <td>1515.0</td>\n      <td>2125.0</td>\n      <td>5390.0</td>\n      <td>NaN</td>\n      <td>NaN</td>\n      <td>5.0</td>\n      <td>4.0</td>\n    </tr>\n    <tr>\n      <th>4</th>\n      <td>Bentley</td>\n      <td>Arnage</td>\n      <td>10_1</td>\n      <td>10_1$$5</td>\n      <td>2017</td>\n      <td>11</td>\n      <td>Grey</td>\n      <td>2003.0</td>\n      <td>Saloon</td>\n      <td>61652</td>\n      <td>...</td>\n      <td>NaN</td>\n      <td>NaN</td>\n      <td>3116.0</td>\n      <td>1515.0</td>\n      <td>2125.0</td>\n      <td>5390.0</td>\n      <td>NaN</td>\n      <td>NaN</td>\n      <td>5.0</td>\n      <td>4.0</td>\n    </tr>\n  </tbody>\n</table>\n<p>5 rows × 24 columns</p>\n</div>"
     },
     "execution_count": 85,
     "metadata": {},
     "output_type": "execute_result"
    }
   ],
   "source": [
    "df.head()"
   ],
   "metadata": {
    "collapsed": false,
    "ExecuteTime": {
     "end_time": "2024-03-23T20:23:07.314712Z",
     "start_time": "2024-03-23T20:23:07.275063Z"
    }
   },
   "id": "bc576aa0dc95c6a1",
   "execution_count": 85
  },
  {
   "cell_type": "code",
   "outputs": [],
   "source": [
    "df = df.drop([\"Adv_ID\"], axis=1)"
   ],
   "metadata": {
    "collapsed": false,
    "ExecuteTime": {
     "end_time": "2024-03-23T20:23:15.078822Z",
     "start_time": "2024-03-23T20:23:15.009942Z"
    }
   },
   "id": "9ca0b3a1a13bae73",
   "execution_count": 86
  },
  {
   "cell_type": "code",
   "outputs": [
    {
     "data": {
      "text/plain": "Index(['Maker', 'Genmodel', 'Genmodel_ID', 'Adv_year', 'Adv_month', 'Color',\n       'Reg_year', 'Bodytype', 'Runned_Miles', 'Engin_size', 'Gearbox',\n       'Fuel_type', 'Price', 'Engine_power', 'Annual_Tax', 'Wheelbase',\n       'Height', 'Width', 'Length', 'Average_mpg', 'Top_speed', 'Seat_num',\n       'Door_num'],\n      dtype='object')"
     },
     "execution_count": 87,
     "metadata": {},
     "output_type": "execute_result"
    }
   ],
   "source": [
    "df.columns"
   ],
   "metadata": {
    "collapsed": false,
    "ExecuteTime": {
     "end_time": "2024-03-23T20:23:16.420548Z",
     "start_time": "2024-03-23T20:23:16.412912Z"
    }
   },
   "id": "cc887d0d7e33a4ae",
   "execution_count": 87
  },
  {
   "cell_type": "markdown",
   "source": [
    "## Analize variables"
   ],
   "metadata": {
    "collapsed": false
   },
   "id": "22e965fb1d1c2d7d"
  },
  {
   "cell_type": "code",
   "outputs": [
    {
     "data": {
      "text/plain": "Maker               0\nGenmodel            0\nGenmodel_ID         0\nAdv_year            0\nAdv_month           0\nColor           21875\nReg_year            7\nBodytype          954\nRunned_Miles     1055\nEngin_size       2064\nGearbox           167\nFuel_type         409\nPrice            1145\nEngine_power    31811\nAnnual_Tax      46675\nWheelbase       27998\nHeight          27801\nWidth           28080\nLength          27801\nAverage_mpg     41933\nTop_speed       43602\nSeat_num         6474\nDoor_num         4553\ndtype: int64"
     },
     "execution_count": 88,
     "metadata": {},
     "output_type": "execute_result"
    }
   ],
   "source": [
    "df.isna().sum()"
   ],
   "metadata": {
    "collapsed": false,
    "ExecuteTime": {
     "end_time": "2024-03-23T20:23:19.852679Z",
     "start_time": "2024-03-23T20:23:19.702166Z"
    }
   },
   "id": "a43c68f682dbf582",
   "execution_count": 88
  },
  {
   "cell_type": "markdown",
   "source": [
    "#### Missing Value Percentage Function"
   ],
   "metadata": {
    "collapsed": false
   },
   "id": "e57f9f83d6663675"
  },
  {
   "cell_type": "code",
   "outputs": [
    {
     "name": "stdout",
     "output_type": "stream",
     "text": [
      "Missing value percentage of Maker column is: 0.0000%\n",
      "Missing value percentage of Genmodel column is: 0.0000%\n",
      "Missing value percentage of Genmodel_ID column is: 0.0000%\n",
      "Missing value percentage of Adv_year column is: 0.0000%\n",
      "Missing value percentage of Adv_month column is: 0.0000%\n",
      "Missing value percentage of Color column is: 8.1546%\n",
      "Missing value percentage of Reg_year column is: 0.0026%\n",
      "Missing value percentage of Bodytype column is: 0.3556%\n",
      "Missing value percentage of Runned_Miles column is: 0.3933%\n",
      "Missing value percentage of Engin_size column is: 0.7694%\n",
      "Missing value percentage of Gearbox column is: 0.0623%\n",
      "Missing value percentage of Fuel_type column is: 0.1525%\n",
      "Missing value percentage of Price column is: 0.4268%\n",
      "Missing value percentage of Engine_power column is: 11.8585%\n",
      "Missing value percentage of Annual_Tax column is: 17.3995%\n",
      "Missing value percentage of Wheelbase column is: 10.4371%\n",
      "Missing value percentage of Height column is: 10.3636%\n",
      "Missing value percentage of Width column is: 10.4677%\n",
      "Missing value percentage of Length column is: 10.3636%\n",
      "Missing value percentage of Average_mpg column is: 15.6318%\n",
      "Missing value percentage of Top_speed column is: 16.2539%\n",
      "Missing value percentage of Seat_num column is: 2.4134%\n",
      "Missing value percentage of Door_num column is: 1.6973%\n"
     ]
    },
    {
     "data": {
      "text/plain": "Maker           None\nGenmodel        None\nGenmodel_ID     None\nAdv_year        None\nAdv_month       None\nColor           None\nReg_year        None\nBodytype        None\nRunned_Miles    None\nEngin_size      None\nGearbox         None\nFuel_type       None\nPrice           None\nEngine_power    None\nAnnual_Tax      None\nWheelbase       None\nHeight          None\nWidth           None\nLength          None\nAverage_mpg     None\nTop_speed       None\nSeat_num        None\nDoor_num        None\ndtype: object"
     },
     "execution_count": 89,
     "metadata": {},
     "output_type": "execute_result"
    }
   ],
   "source": [
    "df.apply(lambda x: print(f\"Missing value percentage of {x.name} column is: {(x.isna().sum() / len(x)) * 100:.4f}%\"))"
   ],
   "metadata": {
    "collapsed": false,
    "ExecuteTime": {
     "end_time": "2024-03-23T20:23:24.643768Z",
     "start_time": "2024-03-23T20:23:24.497402Z"
    }
   },
   "id": "152e5ce25e6d4c2f",
   "execution_count": 89
  },
  {
   "cell_type": "markdown",
   "source": [
    "### Color"
   ],
   "metadata": {
    "collapsed": false
   },
   "id": "a20db9fee083d81"
  },
  {
   "cell_type": "code",
   "outputs": [],
   "source": [
    "df[\"Color\"] = df[\"Color\"].fillna(\"unknown\")"
   ],
   "metadata": {
    "collapsed": false,
    "ExecuteTime": {
     "end_time": "2024-03-23T20:23:36.943419Z",
     "start_time": "2024-03-23T20:23:36.894719Z"
    }
   },
   "id": "9186243492293772",
   "execution_count": 90
  },
  {
   "cell_type": "code",
   "outputs": [
    {
     "data": {
      "text/plain": "0"
     },
     "execution_count": 91,
     "metadata": {},
     "output_type": "execute_result"
    }
   ],
   "source": [
    "df[\"Color\"].isna().sum()"
   ],
   "metadata": {
    "collapsed": false,
    "ExecuteTime": {
     "end_time": "2024-03-23T20:23:37.800463Z",
     "start_time": "2024-03-23T20:23:37.776684Z"
    }
   },
   "id": "aec3e65bec116960",
   "execution_count": 91
  },
  {
   "cell_type": "markdown",
   "source": [
    "### Remove rows with less than 5% of missing values"
   ],
   "metadata": {
    "collapsed": false
   },
   "id": "b3359802f0b889f4"
  },
  {
   "cell_type": "code",
   "outputs": [],
   "source": [
    "def remove_rows_with_few_missing_values(df):\n",
    "    missing_percentage = df.isnull().mean() * 100\n",
    "    columns_with_few_missing = missing_percentage[missing_percentage < 5].index\n",
    "    df_cleaned = df.dropna(subset=columns_with_few_missing)\n",
    "    \n",
    "    return df_cleaned"
   ],
   "metadata": {
    "collapsed": false,
    "ExecuteTime": {
     "end_time": "2024-03-23T20:23:39.928052Z",
     "start_time": "2024-03-23T20:23:39.914538Z"
    }
   },
   "id": "378d2e458dd3ef55",
   "execution_count": 92
  },
  {
   "cell_type": "code",
   "outputs": [
    {
     "data": {
      "text/plain": "          Maker Genmodel Genmodel_ID  Adv_year  Adv_month   Color  Reg_year  \\\n0       Bentley   Arnage        10_1      2018          4  Silver    2000.0   \n1       Bentley   Arnage        10_1      2018          6    Grey    2002.0   \n2       Bentley   Arnage        10_1      2017         11    Blue    2002.0   \n3       Bentley   Arnage        10_1      2018          4   Green    2003.0   \n4       Bentley   Arnage        10_1      2017         11    Grey    2003.0   \n...         ...      ...         ...       ...        ...     ...       ...   \n268245    Volvo      V50        96_9      2018          7    Grey    2008.0   \n268246    Volvo      V50        96_9      2018          8    Blue    2007.0   \n268247    Volvo      V50        96_9      2018          5  Silver    2009.0   \n268248    Volvo      V50        96_9      2018          5  Silver    2004.0   \n268249    Volvo      V50        96_9      2018          1    Blue    2009.0   \n\n       Bodytype Runned_Miles Engin_size  ... Engine_power Annual_Tax  \\\n0        Saloon        60000       6.8L  ...          NaN        NaN   \n1        Saloon        44000       6.8L  ...        450.0        315   \n2        Saloon        55000       6.8L  ...        400.0        315   \n3        Saloon        14000       6.8L  ...          NaN        NaN   \n4        Saloon        61652       6.8L  ...          NaN        NaN   \n...         ...          ...        ...  ...          ...        ...   \n268245   Estate       140000       2.0L  ...        136.0        195   \n268246   Estate       158000       2.4L  ...        180.0        250   \n268247   Estate        94000       2.4L  ...        178.0        250   \n268248   Estate       111000       2.4L  ...        170.0        315   \n268249   Estate       107000       2.0L  ...        136.0        195   \n\n        Wheelbase  Height   Width  Length  Average_mpg  Top_speed  Seat_num  \\\n0          3116.0  1515.0  2125.0  5390.0          NaN        NaN       5.0   \n1          3116.0  1515.0  2125.0  5390.0     13.7 mpg    179 mph       5.0   \n2          3116.0  1515.0  2125.0  5390.0     14.7 mpg    155 mph       5.0   \n3          3116.0  1515.0  2125.0  5390.0          NaN        NaN       5.0   \n4          3116.0  1515.0  2125.0  5390.0          NaN        NaN       5.0   \n...           ...     ...     ...     ...          ...        ...       ...   \n268245     2640.0  1457.0  1770.0  4522.0     48.7 mpg    127 mph       5.0   \n268246     2640.0  1457.0  1770.0  4522.0     40.4 mpg    137 mph       5.0   \n268247     2640.0  1457.0  1770.0  4522.0     40.4 mpg    137 mph       5.0   \n268248     2640.0  1452.0  1770.0  4514.0     31.0 mpg    134 mph       5.0   \n268249     2640.0  1452.0  1770.0  4514.0     49.6 mpg    130 mph       5.0   \n\n       Door_num  \n0           4.0  \n1           4.0  \n2           4.0  \n3           4.0  \n4           4.0  \n...         ...  \n268245      5.0  \n268246      5.0  \n268247      5.0  \n268248      5.0  \n268249      5.0  \n\n[255789 rows x 23 columns]",
      "text/html": "<div>\n<style scoped>\n    .dataframe tbody tr th:only-of-type {\n        vertical-align: middle;\n    }\n\n    .dataframe tbody tr th {\n        vertical-align: top;\n    }\n\n    .dataframe thead th {\n        text-align: right;\n    }\n</style>\n<table border=\"1\" class=\"dataframe\">\n  <thead>\n    <tr style=\"text-align: right;\">\n      <th></th>\n      <th>Maker</th>\n      <th>Genmodel</th>\n      <th>Genmodel_ID</th>\n      <th>Adv_year</th>\n      <th>Adv_month</th>\n      <th>Color</th>\n      <th>Reg_year</th>\n      <th>Bodytype</th>\n      <th>Runned_Miles</th>\n      <th>Engin_size</th>\n      <th>...</th>\n      <th>Engine_power</th>\n      <th>Annual_Tax</th>\n      <th>Wheelbase</th>\n      <th>Height</th>\n      <th>Width</th>\n      <th>Length</th>\n      <th>Average_mpg</th>\n      <th>Top_speed</th>\n      <th>Seat_num</th>\n      <th>Door_num</th>\n    </tr>\n  </thead>\n  <tbody>\n    <tr>\n      <th>0</th>\n      <td>Bentley</td>\n      <td>Arnage</td>\n      <td>10_1</td>\n      <td>2018</td>\n      <td>4</td>\n      <td>Silver</td>\n      <td>2000.0</td>\n      <td>Saloon</td>\n      <td>60000</td>\n      <td>6.8L</td>\n      <td>...</td>\n      <td>NaN</td>\n      <td>NaN</td>\n      <td>3116.0</td>\n      <td>1515.0</td>\n      <td>2125.0</td>\n      <td>5390.0</td>\n      <td>NaN</td>\n      <td>NaN</td>\n      <td>5.0</td>\n      <td>4.0</td>\n    </tr>\n    <tr>\n      <th>1</th>\n      <td>Bentley</td>\n      <td>Arnage</td>\n      <td>10_1</td>\n      <td>2018</td>\n      <td>6</td>\n      <td>Grey</td>\n      <td>2002.0</td>\n      <td>Saloon</td>\n      <td>44000</td>\n      <td>6.8L</td>\n      <td>...</td>\n      <td>450.0</td>\n      <td>315</td>\n      <td>3116.0</td>\n      <td>1515.0</td>\n      <td>2125.0</td>\n      <td>5390.0</td>\n      <td>13.7 mpg</td>\n      <td>179 mph</td>\n      <td>5.0</td>\n      <td>4.0</td>\n    </tr>\n    <tr>\n      <th>2</th>\n      <td>Bentley</td>\n      <td>Arnage</td>\n      <td>10_1</td>\n      <td>2017</td>\n      <td>11</td>\n      <td>Blue</td>\n      <td>2002.0</td>\n      <td>Saloon</td>\n      <td>55000</td>\n      <td>6.8L</td>\n      <td>...</td>\n      <td>400.0</td>\n      <td>315</td>\n      <td>3116.0</td>\n      <td>1515.0</td>\n      <td>2125.0</td>\n      <td>5390.0</td>\n      <td>14.7 mpg</td>\n      <td>155 mph</td>\n      <td>5.0</td>\n      <td>4.0</td>\n    </tr>\n    <tr>\n      <th>3</th>\n      <td>Bentley</td>\n      <td>Arnage</td>\n      <td>10_1</td>\n      <td>2018</td>\n      <td>4</td>\n      <td>Green</td>\n      <td>2003.0</td>\n      <td>Saloon</td>\n      <td>14000</td>\n      <td>6.8L</td>\n      <td>...</td>\n      <td>NaN</td>\n      <td>NaN</td>\n      <td>3116.0</td>\n      <td>1515.0</td>\n      <td>2125.0</td>\n      <td>5390.0</td>\n      <td>NaN</td>\n      <td>NaN</td>\n      <td>5.0</td>\n      <td>4.0</td>\n    </tr>\n    <tr>\n      <th>4</th>\n      <td>Bentley</td>\n      <td>Arnage</td>\n      <td>10_1</td>\n      <td>2017</td>\n      <td>11</td>\n      <td>Grey</td>\n      <td>2003.0</td>\n      <td>Saloon</td>\n      <td>61652</td>\n      <td>6.8L</td>\n      <td>...</td>\n      <td>NaN</td>\n      <td>NaN</td>\n      <td>3116.0</td>\n      <td>1515.0</td>\n      <td>2125.0</td>\n      <td>5390.0</td>\n      <td>NaN</td>\n      <td>NaN</td>\n      <td>5.0</td>\n      <td>4.0</td>\n    </tr>\n    <tr>\n      <th>...</th>\n      <td>...</td>\n      <td>...</td>\n      <td>...</td>\n      <td>...</td>\n      <td>...</td>\n      <td>...</td>\n      <td>...</td>\n      <td>...</td>\n      <td>...</td>\n      <td>...</td>\n      <td>...</td>\n      <td>...</td>\n      <td>...</td>\n      <td>...</td>\n      <td>...</td>\n      <td>...</td>\n      <td>...</td>\n      <td>...</td>\n      <td>...</td>\n      <td>...</td>\n      <td>...</td>\n    </tr>\n    <tr>\n      <th>268245</th>\n      <td>Volvo</td>\n      <td>V50</td>\n      <td>96_9</td>\n      <td>2018</td>\n      <td>7</td>\n      <td>Grey</td>\n      <td>2008.0</td>\n      <td>Estate</td>\n      <td>140000</td>\n      <td>2.0L</td>\n      <td>...</td>\n      <td>136.0</td>\n      <td>195</td>\n      <td>2640.0</td>\n      <td>1457.0</td>\n      <td>1770.0</td>\n      <td>4522.0</td>\n      <td>48.7 mpg</td>\n      <td>127 mph</td>\n      <td>5.0</td>\n      <td>5.0</td>\n    </tr>\n    <tr>\n      <th>268246</th>\n      <td>Volvo</td>\n      <td>V50</td>\n      <td>96_9</td>\n      <td>2018</td>\n      <td>8</td>\n      <td>Blue</td>\n      <td>2007.0</td>\n      <td>Estate</td>\n      <td>158000</td>\n      <td>2.4L</td>\n      <td>...</td>\n      <td>180.0</td>\n      <td>250</td>\n      <td>2640.0</td>\n      <td>1457.0</td>\n      <td>1770.0</td>\n      <td>4522.0</td>\n      <td>40.4 mpg</td>\n      <td>137 mph</td>\n      <td>5.0</td>\n      <td>5.0</td>\n    </tr>\n    <tr>\n      <th>268247</th>\n      <td>Volvo</td>\n      <td>V50</td>\n      <td>96_9</td>\n      <td>2018</td>\n      <td>5</td>\n      <td>Silver</td>\n      <td>2009.0</td>\n      <td>Estate</td>\n      <td>94000</td>\n      <td>2.4L</td>\n      <td>...</td>\n      <td>178.0</td>\n      <td>250</td>\n      <td>2640.0</td>\n      <td>1457.0</td>\n      <td>1770.0</td>\n      <td>4522.0</td>\n      <td>40.4 mpg</td>\n      <td>137 mph</td>\n      <td>5.0</td>\n      <td>5.0</td>\n    </tr>\n    <tr>\n      <th>268248</th>\n      <td>Volvo</td>\n      <td>V50</td>\n      <td>96_9</td>\n      <td>2018</td>\n      <td>5</td>\n      <td>Silver</td>\n      <td>2004.0</td>\n      <td>Estate</td>\n      <td>111000</td>\n      <td>2.4L</td>\n      <td>...</td>\n      <td>170.0</td>\n      <td>315</td>\n      <td>2640.0</td>\n      <td>1452.0</td>\n      <td>1770.0</td>\n      <td>4514.0</td>\n      <td>31.0 mpg</td>\n      <td>134 mph</td>\n      <td>5.0</td>\n      <td>5.0</td>\n    </tr>\n    <tr>\n      <th>268249</th>\n      <td>Volvo</td>\n      <td>V50</td>\n      <td>96_9</td>\n      <td>2018</td>\n      <td>1</td>\n      <td>Blue</td>\n      <td>2009.0</td>\n      <td>Estate</td>\n      <td>107000</td>\n      <td>2.0L</td>\n      <td>...</td>\n      <td>136.0</td>\n      <td>195</td>\n      <td>2640.0</td>\n      <td>1452.0</td>\n      <td>1770.0</td>\n      <td>4514.0</td>\n      <td>49.6 mpg</td>\n      <td>130 mph</td>\n      <td>5.0</td>\n      <td>5.0</td>\n    </tr>\n  </tbody>\n</table>\n<p>255789 rows × 23 columns</p>\n</div>"
     },
     "execution_count": 93,
     "metadata": {},
     "output_type": "execute_result"
    }
   ],
   "source": [
    "df_cleaned = remove_rows_with_few_missing_values(df)\n",
    "df_cleaned"
   ],
   "metadata": {
    "collapsed": false,
    "ExecuteTime": {
     "end_time": "2024-03-23T20:23:41.971267Z",
     "start_time": "2024-03-23T20:23:41.245746Z"
    }
   },
   "id": "8c48ccdefdd57555",
   "execution_count": 93
  },
  {
   "cell_type": "code",
   "outputs": [
    {
     "data": {
      "text/plain": "Maker               0\nGenmodel            0\nGenmodel_ID         0\nAdv_year            0\nAdv_month           0\nColor               0\nReg_year            0\nBodytype            0\nRunned_Miles        0\nEngin_size          0\nGearbox             0\nFuel_type           0\nPrice               0\nEngine_power    24025\nAnnual_Tax      38951\nWheelbase       20628\nHeight          20442\nWidth           20719\nLength          20442\nAverage_mpg     32462\nTop_speed       34467\nSeat_num            0\nDoor_num            0\ndtype: int64"
     },
     "execution_count": 94,
     "metadata": {},
     "output_type": "execute_result"
    }
   ],
   "source": [
    "df_cleaned.isnull().sum()"
   ],
   "metadata": {
    "collapsed": false,
    "ExecuteTime": {
     "end_time": "2024-03-23T20:23:46.631479Z",
     "start_time": "2024-03-23T20:23:46.240307Z"
    }
   },
   "id": "b6d6c0693b95f91f",
   "execution_count": 94
  },
  {
   "cell_type": "markdown",
   "source": [
    "### Handle columns with more than 5% of missing values"
   ],
   "metadata": {
    "collapsed": false
   },
   "id": "d3b322f75f04302d"
  },
  {
   "cell_type": "code",
   "outputs": [],
   "source": [
    "df_cleaned = df_cleaned.copy()"
   ],
   "metadata": {
    "collapsed": false,
    "ExecuteTime": {
     "end_time": "2024-03-23T21:08:34.455672Z",
     "start_time": "2024-03-23T21:08:34.209822Z"
    }
   },
   "id": "b87ac00a4cad78ab",
   "execution_count": 109
  },
  {
   "cell_type": "code",
   "outputs": [],
   "source": [
    "# Engine_power\n",
    "df_cleaned.loc[:, 'Engine_power'] = df_cleaned.groupby('Genmodel_ID')['Engine_power'].transform(\n",
    "    lambda x: x.fillna(x.dropna().mode()[0] if not x.dropna().empty else x)\n",
    ")"
   ],
   "metadata": {
    "collapsed": false,
    "ExecuteTime": {
     "end_time": "2024-03-23T21:08:48.247934Z",
     "start_time": "2024-03-23T21:08:47.559896Z"
    }
   },
   "id": "15e40af1a847e0e8",
   "execution_count": 110
  },
  {
   "cell_type": "code",
   "outputs": [],
   "source": [
    "# Annual_Tax\n",
    "df_cleaned.loc[:, 'Annual_Tax'] = df_cleaned.groupby('Genmodel_ID')['Annual_Tax'].transform(\n",
    "    lambda x: x.fillna(x.dropna().mode()[0] if not x.dropna().empty else x)\n",
    ")"
   ],
   "metadata": {
    "collapsed": false,
    "ExecuteTime": {
     "end_time": "2024-03-23T21:10:33.663182Z",
     "start_time": "2024-03-23T21:10:32.885260Z"
    }
   },
   "id": "5050abd241584567",
   "execution_count": 112
  },
  {
   "cell_type": "code",
   "outputs": [],
   "source": [
    "# Wheelbase\n",
    "df_cleaned.loc[:, 'Wheelbase'] = df_cleaned.groupby('Genmodel_ID')['Wheelbase'].transform(\n",
    "    lambda x: x.fillna(x.dropna().mode()[0] if not x.dropna().empty else x)\n",
    ")"
   ],
   "metadata": {
    "collapsed": false,
    "ExecuteTime": {
     "end_time": "2024-03-23T21:11:27.877672Z",
     "start_time": "2024-03-23T21:11:27.093254Z"
    }
   },
   "id": "c7eae5366bcb1f28",
   "execution_count": 114
  },
  {
   "cell_type": "code",
   "outputs": [],
   "source": [
    "# Height\n",
    "df_cleaned.loc[:, 'Height'] = df_cleaned.groupby('Genmodel_ID')['Height'].transform(\n",
    "    lambda x: x.fillna(x.dropna().mode()[0] if not x.dropna().empty else x)\n",
    ")"
   ],
   "metadata": {
    "collapsed": false,
    "ExecuteTime": {
     "end_time": "2024-03-23T21:12:10.849940Z",
     "start_time": "2024-03-23T21:12:10.233123Z"
    }
   },
   "id": "a452365be6567fa",
   "execution_count": 116
  },
  {
   "cell_type": "code",
   "outputs": [],
   "source": [
    "# Width\n",
    "df_cleaned.loc[:, 'Width'] = df_cleaned.groupby('Genmodel_ID')['Width'].transform(\n",
    "    lambda x: x.fillna(x.dropna().mode()[0] if not x.dropna().empty else x)\n",
    ")"
   ],
   "metadata": {
    "collapsed": false,
    "ExecuteTime": {
     "end_time": "2024-03-23T21:12:51.062620Z",
     "start_time": "2024-03-23T21:12:50.587800Z"
    }
   },
   "id": "a605324aa3ffa8a5",
   "execution_count": 118
  },
  {
   "cell_type": "code",
   "outputs": [],
   "source": [
    "# Length\n",
    "df_cleaned.loc[:, 'Length'] = df_cleaned.groupby('Genmodel_ID')['Length'].transform(\n",
    "    lambda x: x.fillna(x.dropna().mode()[0] if not x.dropna().empty else x)\n",
    ")"
   ],
   "metadata": {
    "collapsed": false,
    "ExecuteTime": {
     "end_time": "2024-03-23T21:13:26.265261Z",
     "start_time": "2024-03-23T21:13:25.802646Z"
    }
   },
   "id": "3b9afaa7fdbe3598",
   "execution_count": 120
  },
  {
   "cell_type": "code",
   "outputs": [],
   "source": [
    "# Average_mpg\n",
    "df_cleaned.loc[:, 'Average_mpg'] = df_cleaned.groupby('Genmodel_ID')['Average_mpg'].transform(\n",
    "    lambda x: x.fillna(x.dropna().mode()[0] if not x.dropna().empty else x)\n",
    ")"
   ],
   "metadata": {
    "collapsed": false,
    "ExecuteTime": {
     "end_time": "2024-03-23T21:14:16.119161Z",
     "start_time": "2024-03-23T21:14:15.263160Z"
    }
   },
   "id": "e3eebd40db7d714c",
   "execution_count": 122
  },
  {
   "cell_type": "code",
   "outputs": [],
   "source": [
    "# Top_speed\n",
    "df_cleaned.loc[:, 'Top_speed'] = df_cleaned.groupby('Genmodel_ID')['Top_speed'].transform(\n",
    "    lambda x: x.fillna(x.dropna().mode()[0] if not x.dropna().empty else x)\n",
    ")"
   ],
   "metadata": {
    "collapsed": false,
    "ExecuteTime": {
     "end_time": "2024-03-23T21:14:58.090453Z",
     "start_time": "2024-03-23T21:14:57.358360Z"
    }
   },
   "id": "cd797f82dd898e65",
   "execution_count": 124
  },
  {
   "cell_type": "code",
   "outputs": [
    {
     "name": "stdout",
     "output_type": "stream",
     "text": [
      "Missing value percentage of Maker column is: 0.0000%\n",
      "Missing value percentage of Genmodel column is: 0.0000%\n",
      "Missing value percentage of Genmodel_ID column is: 0.0000%\n",
      "Missing value percentage of Adv_year column is: 0.0000%\n",
      "Missing value percentage of Adv_month column is: 0.0000%\n",
      "Missing value percentage of Color column is: 0.0000%\n",
      "Missing value percentage of Reg_year column is: 0.0000%\n",
      "Missing value percentage of Bodytype column is: 0.0000%\n",
      "Missing value percentage of Runned_Miles column is: 0.0000%\n",
      "Missing value percentage of Engin_size column is: 0.0000%\n",
      "Missing value percentage of Gearbox column is: 0.0000%\n",
      "Missing value percentage of Fuel_type column is: 0.0000%\n",
      "Missing value percentage of Price column is: 0.0000%\n",
      "Missing value percentage of Engine_power column is: 0.5770%\n",
      "Missing value percentage of Annual_Tax column is: 0.6412%\n",
      "Missing value percentage of Wheelbase column is: 0.1220%\n",
      "Missing value percentage of Height column is: 0.1220%\n",
      "Missing value percentage of Width column is: 0.1274%\n",
      "Missing value percentage of Length column is: 0.1220%\n",
      "Missing value percentage of Average_mpg column is: 0.6001%\n",
      "Missing value percentage of Top_speed column is: 0.6845%\n",
      "Missing value percentage of Seat_num column is: 0.0000%\n",
      "Missing value percentage of Door_num column is: 0.0000%\n"
     ]
    },
    {
     "data": {
      "text/plain": "Maker           None\nGenmodel        None\nGenmodel_ID     None\nAdv_year        None\nAdv_month       None\nColor           None\nReg_year        None\nBodytype        None\nRunned_Miles    None\nEngin_size      None\nGearbox         None\nFuel_type       None\nPrice           None\nEngine_power    None\nAnnual_Tax      None\nWheelbase       None\nHeight          None\nWidth           None\nLength          None\nAverage_mpg     None\nTop_speed       None\nSeat_num        None\nDoor_num        None\ndtype: object"
     },
     "execution_count": 126,
     "metadata": {},
     "output_type": "execute_result"
    }
   ],
   "source": [
    "df_cleaned.apply(lambda x: print(f\"Missing value percentage of {x.name} column is: {(x.isna().sum() / len(x)) * 100:.4f}%\"))"
   ],
   "metadata": {
    "collapsed": false,
    "ExecuteTime": {
     "end_time": "2024-03-23T21:15:31.913860Z",
     "start_time": "2024-03-23T21:15:31.728700Z"
    }
   },
   "id": "5a3f759e93e0f8fc",
   "execution_count": 126
  },
  {
   "cell_type": "code",
   "outputs": [
    {
     "name": "stdout",
     "output_type": "stream",
     "text": [
      "Missing value percentage of Maker column is: 0.0000%\n",
      "Missing value percentage of Genmodel column is: 0.0000%\n",
      "Missing value percentage of Genmodel_ID column is: 0.0000%\n",
      "Missing value percentage of Adv_year column is: 0.0000%\n",
      "Missing value percentage of Adv_month column is: 0.0000%\n",
      "Missing value percentage of Color column is: 0.0000%\n",
      "Missing value percentage of Reg_year column is: 0.0000%\n",
      "Missing value percentage of Bodytype column is: 0.0000%\n",
      "Missing value percentage of Runned_Miles column is: 0.0000%\n",
      "Missing value percentage of Engin_size column is: 0.0000%\n",
      "Missing value percentage of Gearbox column is: 0.0000%\n",
      "Missing value percentage of Fuel_type column is: 0.0000%\n",
      "Missing value percentage of Price column is: 0.0000%\n",
      "Missing value percentage of Engine_power column is: 0.0000%\n",
      "Missing value percentage of Annual_Tax column is: 0.0000%\n",
      "Missing value percentage of Wheelbase column is: 0.0000%\n",
      "Missing value percentage of Height column is: 0.0000%\n",
      "Missing value percentage of Width column is: 0.0000%\n",
      "Missing value percentage of Length column is: 0.0000%\n",
      "Missing value percentage of Average_mpg column is: 0.0000%\n",
      "Missing value percentage of Top_speed column is: 0.0000%\n",
      "Missing value percentage of Seat_num column is: 0.0000%\n",
      "Missing value percentage of Door_num column is: 0.0000%\n"
     ]
    },
    {
     "data": {
      "text/plain": "Maker           None\nGenmodel        None\nGenmodel_ID     None\nAdv_year        None\nAdv_month       None\nColor           None\nReg_year        None\nBodytype        None\nRunned_Miles    None\nEngin_size      None\nGearbox         None\nFuel_type       None\nPrice           None\nEngine_power    None\nAnnual_Tax      None\nWheelbase       None\nHeight          None\nWidth           None\nLength          None\nAverage_mpg     None\nTop_speed       None\nSeat_num        None\nDoor_num        None\ndtype: object"
     },
     "execution_count": 128,
     "metadata": {},
     "output_type": "execute_result"
    }
   ],
   "source": [
    "df_cleaned_two = remove_rows_with_few_missing_values(df_cleaned)\n",
    "df_cleaned_two.apply(lambda x: print(f\"Missing value percentage of {x.name} column is: {(x.isna().sum() / len(x)) * 100:.4f}%\"))"
   ],
   "metadata": {
    "collapsed": false,
    "ExecuteTime": {
     "end_time": "2024-03-23T21:17:44.910543Z",
     "start_time": "2024-03-23T21:17:44.061653Z"
    }
   },
   "id": "31231ea26550b7cd",
   "execution_count": 128
  },
  {
   "cell_type": "code",
   "outputs": [],
   "source": [
    "df_cleaned_two.to_csv('../data/cleaned_dataset.csv', index=False)"
   ],
   "metadata": {
    "collapsed": false,
    "ExecuteTime": {
     "end_time": "2024-03-23T21:22:12.885339Z",
     "start_time": "2024-03-23T21:22:09.804687Z"
    }
   },
   "id": "1dccc0307974ab33",
   "execution_count": 129
  },
  {
   "cell_type": "markdown",
   "source": [
    "## Change data types"
   ],
   "metadata": {
    "collapsed": false
   },
   "id": "6c9c86325ca2121a"
  },
  {
   "cell_type": "code",
   "outputs": [
    {
     "name": "stdout",
     "output_type": "stream",
     "text": [
      "<class 'pandas.core.frame.DataFrame'>\n",
      "RangeIndex: 253809 entries, 0 to 253808\n",
      "Data columns (total 23 columns):\n",
      " #   Column        Non-Null Count   Dtype  \n",
      "---  ------        --------------   -----  \n",
      " 0   Maker         253809 non-null  object \n",
      " 1   Genmodel      253809 non-null  object \n",
      " 2   Genmodel_ID   253809 non-null  object \n",
      " 3   Adv_year      253809 non-null  int64  \n",
      " 4   Adv_month     253809 non-null  int64  \n",
      " 5   Color         253809 non-null  object \n",
      " 6   Reg_year      253809 non-null  float64\n",
      " 7   Bodytype      253809 non-null  object \n",
      " 8   Runned_Miles  253809 non-null  object \n",
      " 9   Engin_size    253809 non-null  object \n",
      " 10  Gearbox       253809 non-null  object \n",
      " 11  Fuel_type     253809 non-null  object \n",
      " 12  Price         253809 non-null  float64\n",
      " 13  Engine_power  253809 non-null  float64\n",
      " 14  Annual_Tax    253809 non-null  object \n",
      " 15  Wheelbase     253809 non-null  float64\n",
      " 16  Height        253809 non-null  float64\n",
      " 17  Width         253809 non-null  float64\n",
      " 18  Length        253809 non-null  float64\n",
      " 19  Average_mpg   253809 non-null  object \n",
      " 20  Top_speed     253809 non-null  object \n",
      " 21  Seat_num      253809 non-null  float64\n",
      " 22  Door_num      253809 non-null  float64\n",
      "dtypes: float64(9), int64(2), object(12)\n",
      "memory usage: 44.5+ MB\n"
     ]
    }
   ],
   "source": [
    "df_types = pd.read_csv(\"../data/cleaned_dataset.csv\")\n",
    "df_types.info()"
   ],
   "metadata": {
    "collapsed": false,
    "ExecuteTime": {
     "end_time": "2024-03-23T21:24:39.981636Z",
     "start_time": "2024-03-23T21:24:38.320736Z"
    }
   },
   "id": "310ff347b0901d07",
   "execution_count": 133
  },
  {
   "cell_type": "code",
   "outputs": [
    {
     "data": {
      "text/plain": "Maker           0\nGenmodel        0\nGenmodel_ID     0\nAdv_year        0\nAdv_month       0\nColor           0\nReg_year        0\nBodytype        0\nRunned_Miles    0\nEngin_size      0\nGearbox         0\nFuel_type       0\nPrice           0\nEngine_power    0\nAnnual_Tax      0\nWheelbase       0\nHeight          0\nWidth           0\nLength          0\nAverage_mpg     0\nTop_speed       0\nSeat_num        0\nDoor_num        0\ndtype: int64"
     },
     "execution_count": 134,
     "metadata": {},
     "output_type": "execute_result"
    }
   ],
   "source": [
    "df_types.isna().sum()"
   ],
   "metadata": {
    "collapsed": false,
    "ExecuteTime": {
     "end_time": "2024-03-23T21:25:02.282393Z",
     "start_time": "2024-03-23T21:25:02.113032Z"
    }
   },
   "id": "2a1aee281c16edbc",
   "execution_count": 134
  },
  {
   "cell_type": "code",
   "outputs": [
    {
     "data": {
      "text/plain": "     Maker Genmodel Genmodel_ID  Adv_year  Adv_month   Color  Reg_year  \\\n0  Bentley   Arnage        10_1      2018          4  Silver    2000.0   \n1  Bentley   Arnage        10_1      2018          6    Grey    2002.0   \n2  Bentley   Arnage        10_1      2017         11    Blue    2002.0   \n3  Bentley   Arnage        10_1      2018          4   Green    2003.0   \n4  Bentley   Arnage        10_1      2017         11    Grey    2003.0   \n\n  Bodytype Runned_Miles Engin_size  ... Engine_power Annual_Tax  Wheelbase  \\\n0   Saloon        60000       6.8L  ...        450.0        315     3116.0   \n1   Saloon        44000       6.8L  ...        450.0        315     3116.0   \n2   Saloon        55000       6.8L  ...        400.0        315     3116.0   \n3   Saloon        14000       6.8L  ...        450.0        315     3116.0   \n4   Saloon        61652       6.8L  ...        450.0        315     3116.0   \n\n   Height   Width  Length  Average_mpg  Top_speed  Seat_num Door_num  \n0  1515.0  2125.0  5390.0     13.7 mpg    179 mph       5.0      4.0  \n1  1515.0  2125.0  5390.0     13.7 mpg    179 mph       5.0      4.0  \n2  1515.0  2125.0  5390.0     14.7 mpg    155 mph       5.0      4.0  \n3  1515.0  2125.0  5390.0     13.7 mpg    179 mph       5.0      4.0  \n4  1515.0  2125.0  5390.0     13.7 mpg    179 mph       5.0      4.0  \n\n[5 rows x 23 columns]",
      "text/html": "<div>\n<style scoped>\n    .dataframe tbody tr th:only-of-type {\n        vertical-align: middle;\n    }\n\n    .dataframe tbody tr th {\n        vertical-align: top;\n    }\n\n    .dataframe thead th {\n        text-align: right;\n    }\n</style>\n<table border=\"1\" class=\"dataframe\">\n  <thead>\n    <tr style=\"text-align: right;\">\n      <th></th>\n      <th>Maker</th>\n      <th>Genmodel</th>\n      <th>Genmodel_ID</th>\n      <th>Adv_year</th>\n      <th>Adv_month</th>\n      <th>Color</th>\n      <th>Reg_year</th>\n      <th>Bodytype</th>\n      <th>Runned_Miles</th>\n      <th>Engin_size</th>\n      <th>...</th>\n      <th>Engine_power</th>\n      <th>Annual_Tax</th>\n      <th>Wheelbase</th>\n      <th>Height</th>\n      <th>Width</th>\n      <th>Length</th>\n      <th>Average_mpg</th>\n      <th>Top_speed</th>\n      <th>Seat_num</th>\n      <th>Door_num</th>\n    </tr>\n  </thead>\n  <tbody>\n    <tr>\n      <th>0</th>\n      <td>Bentley</td>\n      <td>Arnage</td>\n      <td>10_1</td>\n      <td>2018</td>\n      <td>4</td>\n      <td>Silver</td>\n      <td>2000.0</td>\n      <td>Saloon</td>\n      <td>60000</td>\n      <td>6.8L</td>\n      <td>...</td>\n      <td>450.0</td>\n      <td>315</td>\n      <td>3116.0</td>\n      <td>1515.0</td>\n      <td>2125.0</td>\n      <td>5390.0</td>\n      <td>13.7 mpg</td>\n      <td>179 mph</td>\n      <td>5.0</td>\n      <td>4.0</td>\n    </tr>\n    <tr>\n      <th>1</th>\n      <td>Bentley</td>\n      <td>Arnage</td>\n      <td>10_1</td>\n      <td>2018</td>\n      <td>6</td>\n      <td>Grey</td>\n      <td>2002.0</td>\n      <td>Saloon</td>\n      <td>44000</td>\n      <td>6.8L</td>\n      <td>...</td>\n      <td>450.0</td>\n      <td>315</td>\n      <td>3116.0</td>\n      <td>1515.0</td>\n      <td>2125.0</td>\n      <td>5390.0</td>\n      <td>13.7 mpg</td>\n      <td>179 mph</td>\n      <td>5.0</td>\n      <td>4.0</td>\n    </tr>\n    <tr>\n      <th>2</th>\n      <td>Bentley</td>\n      <td>Arnage</td>\n      <td>10_1</td>\n      <td>2017</td>\n      <td>11</td>\n      <td>Blue</td>\n      <td>2002.0</td>\n      <td>Saloon</td>\n      <td>55000</td>\n      <td>6.8L</td>\n      <td>...</td>\n      <td>400.0</td>\n      <td>315</td>\n      <td>3116.0</td>\n      <td>1515.0</td>\n      <td>2125.0</td>\n      <td>5390.0</td>\n      <td>14.7 mpg</td>\n      <td>155 mph</td>\n      <td>5.0</td>\n      <td>4.0</td>\n    </tr>\n    <tr>\n      <th>3</th>\n      <td>Bentley</td>\n      <td>Arnage</td>\n      <td>10_1</td>\n      <td>2018</td>\n      <td>4</td>\n      <td>Green</td>\n      <td>2003.0</td>\n      <td>Saloon</td>\n      <td>14000</td>\n      <td>6.8L</td>\n      <td>...</td>\n      <td>450.0</td>\n      <td>315</td>\n      <td>3116.0</td>\n      <td>1515.0</td>\n      <td>2125.0</td>\n      <td>5390.0</td>\n      <td>13.7 mpg</td>\n      <td>179 mph</td>\n      <td>5.0</td>\n      <td>4.0</td>\n    </tr>\n    <tr>\n      <th>4</th>\n      <td>Bentley</td>\n      <td>Arnage</td>\n      <td>10_1</td>\n      <td>2017</td>\n      <td>11</td>\n      <td>Grey</td>\n      <td>2003.0</td>\n      <td>Saloon</td>\n      <td>61652</td>\n      <td>6.8L</td>\n      <td>...</td>\n      <td>450.0</td>\n      <td>315</td>\n      <td>3116.0</td>\n      <td>1515.0</td>\n      <td>2125.0</td>\n      <td>5390.0</td>\n      <td>13.7 mpg</td>\n      <td>179 mph</td>\n      <td>5.0</td>\n      <td>4.0</td>\n    </tr>\n  </tbody>\n</table>\n<p>5 rows × 23 columns</p>\n</div>"
     },
     "execution_count": 135,
     "metadata": {},
     "output_type": "execute_result"
    }
   ],
   "source": [
    "df_types.head()"
   ],
   "metadata": {
    "collapsed": false,
    "ExecuteTime": {
     "end_time": "2024-03-23T21:25:21.255012Z",
     "start_time": "2024-03-23T21:25:21.222626Z"
    }
   },
   "id": "ad2320dbf4bd1edd",
   "execution_count": 135
  },
  {
   "cell_type": "code",
   "outputs": [
    {
     "data": {
      "text/plain": "Index(['Maker', 'Genmodel', 'Adv_year', 'Adv_month', 'Color', 'Reg_year',\n       'Bodytype', 'Runned_Miles', 'Engin_size', 'Gearbox', 'Fuel_type',\n       'Price', 'Engine_power', 'Annual_Tax', 'Wheelbase', 'Height', 'Width',\n       'Length', 'Average_mpg', 'Top_speed', 'Seat_num', 'Door_num'],\n      dtype='object')"
     },
     "execution_count": 137,
     "metadata": {},
     "output_type": "execute_result"
    }
   ],
   "source": [
    "# Drop Genmodel_ID variable\n",
    "df_types = df_types.drop([\"Genmodel_ID\"], axis=1)\n",
    "df_types.columns"
   ],
   "metadata": {
    "collapsed": false,
    "ExecuteTime": {
     "end_time": "2024-03-23T21:26:43.291057Z",
     "start_time": "2024-03-23T21:26:43.205600Z"
    }
   },
   "id": "d5b8c2ff41630576",
   "execution_count": 137
  },
  {
   "cell_type": "code",
   "outputs": [
    {
     "data": {
      "text/plain": "Adv_month\nMay          63025\nAugust       48521\nApril        39512\nJuly         33285\nJune         23847\nMarch        20921\nFebruary      9393\nJanuary       5792\nDecember      2839\nNovember      2705\nOctober       2315\nSeptember     1651\n13               1\n17               1\n33               1\nName: count, dtype: int64"
     },
     "execution_count": 152,
     "metadata": {},
     "output_type": "execute_result"
    }
   ],
   "source": [
    "import calendar\n",
    "\n",
    "# Adv_month\n",
    "month_dict = {i: calendar.month_name[i] for i in range(1, 13)}\n",
    "df_types['Adv_month'] = df['Adv_month'].apply(lambda x: month_dict.get(x, x))\n",
    "\n",
    "df_types[\"Adv_month\"].value_counts()"
   ],
   "metadata": {
    "collapsed": false,
    "ExecuteTime": {
     "end_time": "2024-03-23T21:46:50.998104Z",
     "start_time": "2024-03-23T21:46:50.898463Z"
    }
   },
   "id": "d7e947cc0d0926f1",
   "execution_count": 152
  },
  {
   "cell_type": "code",
   "outputs": [],
   "source": [
    "df_types['Adv_month'] = df['Adv_month'].astype(str)\n",
    "invalid_values = ['13', '17', '33']\n",
    "df_types = df_types[~df_types['Adv_month'].isin(invalid_values)]"
   ],
   "metadata": {
    "collapsed": false,
    "ExecuteTime": {
     "end_time": "2024-03-23T21:49:58.757653Z",
     "start_time": "2024-03-23T21:49:58.547250Z"
    }
   },
   "id": "8506cf0fdb0c8769",
   "execution_count": 154
  },
  {
   "cell_type": "code",
   "outputs": [
    {
     "data": {
      "text/plain": "Adv_month\nMay          63025\nAugust       48521\nApril        39512\nJuly         33285\nJune         23847\nMarch        20921\nFebruary      9393\nJanuary       5792\nDecember      2839\nNovember      2705\nOctober       2315\nSeptember     1651\nName: count, dtype: int64"
     },
     "execution_count": 155,
     "metadata": {},
     "output_type": "execute_result"
    }
   ],
   "source": [
    "df_types[\"Adv_month\"].value_counts()"
   ],
   "metadata": {
    "collapsed": false,
    "ExecuteTime": {
     "end_time": "2024-03-23T21:50:19.067221Z",
     "start_time": "2024-03-23T21:50:19.023425Z"
    }
   },
   "id": "a48300f46375ba38",
   "execution_count": 155
  },
  {
   "cell_type": "code",
   "outputs": [
    {
     "data": {
      "text/plain": "Int64Dtype()"
     },
     "execution_count": 159,
     "metadata": {},
     "output_type": "execute_result"
    }
   ],
   "source": [
    "# Reg_year\n",
    "df_types['Reg_year'] = df_types['Reg_year'].astype(float).astype('Int64')\n",
    "df_types[\"Reg_year\"].dtype"
   ],
   "metadata": {
    "collapsed": false,
    "ExecuteTime": {
     "end_time": "2024-03-23T21:56:28.033458Z",
     "start_time": "2024-03-23T21:56:27.929886Z"
    }
   },
   "id": "2c02cae835e308b1",
   "execution_count": 159
  },
  {
   "cell_type": "code",
   "outputs": [
    {
     "data": {
      "text/plain": "Int64Dtype()"
     },
     "execution_count": 166,
     "metadata": {},
     "output_type": "execute_result"
    }
   ],
   "source": [
    "# Runned_Miles\n",
    "df_types['Runned_Miles'] = df_types['Runned_Miles'].str.replace(r'\\D', '', regex=True)\n",
    "df_types['Runned_Miles'] = pd.to_numeric(df_types['Runned_Miles'], errors='coerce').astype('Int64')\n",
    "df_types['Runned_Miles'].dtypes"
   ],
   "metadata": {
    "collapsed": false,
    "ExecuteTime": {
     "end_time": "2024-03-23T21:59:56.806986Z",
     "start_time": "2024-03-23T21:59:56.462428Z"
    }
   },
   "id": "a89d4e084145e07b",
   "execution_count": 166
  },
  {
   "cell_type": "code",
   "outputs": [
    {
     "data": {
      "text/plain": "     Maker Genmodel  Adv_year Adv_month   Color  Reg_year Bodytype  \\\n0  Bentley   Arnage      2018     April  Silver      2000   Saloon   \n1  Bentley   Arnage      2018      June    Grey      2002   Saloon   \n2  Bentley   Arnage      2017  November    Blue      2002   Saloon   \n3  Bentley   Arnage      2018     April   Green      2003   Saloon   \n4  Bentley   Arnage      2017  November    Grey      2003   Saloon   \n\n   Runned_Miles Engin_size    Gearbox  ... Engine_power  Annual_Tax  \\\n0         60000       6.8L  Automatic  ...       450.00         315   \n1         44000       6.8L  Automatic  ...       450.00         315   \n2         55000       6.8L  Automatic  ...       400.00         315   \n3         14000       6.8L  Automatic  ...       450.00         315   \n4         61652       6.8L  Automatic  ...       450.00         315   \n\n   Wheelbase  Height   Width  Length  Average_mpg  Top_speed Seat_num Door_num  \n0    3116.00 1515.00 2125.00 5390.00     13.7 mpg    179 mph     5.00     4.00  \n1    3116.00 1515.00 2125.00 5390.00     13.7 mpg    179 mph     5.00     4.00  \n2    3116.00 1515.00 2125.00 5390.00     14.7 mpg    155 mph     5.00     4.00  \n3    3116.00 1515.00 2125.00 5390.00     13.7 mpg    179 mph     5.00     4.00  \n4    3116.00 1515.00 2125.00 5390.00     13.7 mpg    179 mph     5.00     4.00  \n\n[5 rows x 22 columns]",
      "text/html": "<div>\n<style scoped>\n    .dataframe tbody tr th:only-of-type {\n        vertical-align: middle;\n    }\n\n    .dataframe tbody tr th {\n        vertical-align: top;\n    }\n\n    .dataframe thead th {\n        text-align: right;\n    }\n</style>\n<table border=\"1\" class=\"dataframe\">\n  <thead>\n    <tr style=\"text-align: right;\">\n      <th></th>\n      <th>Maker</th>\n      <th>Genmodel</th>\n      <th>Adv_year</th>\n      <th>Adv_month</th>\n      <th>Color</th>\n      <th>Reg_year</th>\n      <th>Bodytype</th>\n      <th>Runned_Miles</th>\n      <th>Engin_size</th>\n      <th>Gearbox</th>\n      <th>...</th>\n      <th>Engine_power</th>\n      <th>Annual_Tax</th>\n      <th>Wheelbase</th>\n      <th>Height</th>\n      <th>Width</th>\n      <th>Length</th>\n      <th>Average_mpg</th>\n      <th>Top_speed</th>\n      <th>Seat_num</th>\n      <th>Door_num</th>\n    </tr>\n  </thead>\n  <tbody>\n    <tr>\n      <th>0</th>\n      <td>Bentley</td>\n      <td>Arnage</td>\n      <td>2018</td>\n      <td>April</td>\n      <td>Silver</td>\n      <td>2000</td>\n      <td>Saloon</td>\n      <td>60000</td>\n      <td>6.8L</td>\n      <td>Automatic</td>\n      <td>...</td>\n      <td>450.00</td>\n      <td>315</td>\n      <td>3116.00</td>\n      <td>1515.00</td>\n      <td>2125.00</td>\n      <td>5390.00</td>\n      <td>13.7 mpg</td>\n      <td>179 mph</td>\n      <td>5.00</td>\n      <td>4.00</td>\n    </tr>\n    <tr>\n      <th>1</th>\n      <td>Bentley</td>\n      <td>Arnage</td>\n      <td>2018</td>\n      <td>June</td>\n      <td>Grey</td>\n      <td>2002</td>\n      <td>Saloon</td>\n      <td>44000</td>\n      <td>6.8L</td>\n      <td>Automatic</td>\n      <td>...</td>\n      <td>450.00</td>\n      <td>315</td>\n      <td>3116.00</td>\n      <td>1515.00</td>\n      <td>2125.00</td>\n      <td>5390.00</td>\n      <td>13.7 mpg</td>\n      <td>179 mph</td>\n      <td>5.00</td>\n      <td>4.00</td>\n    </tr>\n    <tr>\n      <th>2</th>\n      <td>Bentley</td>\n      <td>Arnage</td>\n      <td>2017</td>\n      <td>November</td>\n      <td>Blue</td>\n      <td>2002</td>\n      <td>Saloon</td>\n      <td>55000</td>\n      <td>6.8L</td>\n      <td>Automatic</td>\n      <td>...</td>\n      <td>400.00</td>\n      <td>315</td>\n      <td>3116.00</td>\n      <td>1515.00</td>\n      <td>2125.00</td>\n      <td>5390.00</td>\n      <td>14.7 mpg</td>\n      <td>155 mph</td>\n      <td>5.00</td>\n      <td>4.00</td>\n    </tr>\n    <tr>\n      <th>3</th>\n      <td>Bentley</td>\n      <td>Arnage</td>\n      <td>2018</td>\n      <td>April</td>\n      <td>Green</td>\n      <td>2003</td>\n      <td>Saloon</td>\n      <td>14000</td>\n      <td>6.8L</td>\n      <td>Automatic</td>\n      <td>...</td>\n      <td>450.00</td>\n      <td>315</td>\n      <td>3116.00</td>\n      <td>1515.00</td>\n      <td>2125.00</td>\n      <td>5390.00</td>\n      <td>13.7 mpg</td>\n      <td>179 mph</td>\n      <td>5.00</td>\n      <td>4.00</td>\n    </tr>\n    <tr>\n      <th>4</th>\n      <td>Bentley</td>\n      <td>Arnage</td>\n      <td>2017</td>\n      <td>November</td>\n      <td>Grey</td>\n      <td>2003</td>\n      <td>Saloon</td>\n      <td>61652</td>\n      <td>6.8L</td>\n      <td>Automatic</td>\n      <td>...</td>\n      <td>450.00</td>\n      <td>315</td>\n      <td>3116.00</td>\n      <td>1515.00</td>\n      <td>2125.00</td>\n      <td>5390.00</td>\n      <td>13.7 mpg</td>\n      <td>179 mph</td>\n      <td>5.00</td>\n      <td>4.00</td>\n    </tr>\n  </tbody>\n</table>\n<p>5 rows × 22 columns</p>\n</div>"
     },
     "execution_count": 178,
     "metadata": {},
     "output_type": "execute_result"
    }
   ],
   "source": [
    "df_types.head()"
   ],
   "metadata": {
    "collapsed": false,
    "ExecuteTime": {
     "end_time": "2024-03-23T22:14:42.706669Z",
     "start_time": "2024-03-23T22:14:42.677584Z"
    }
   },
   "id": "b9133865ac4de41d",
   "execution_count": 178
  },
  {
   "cell_type": "code",
   "outputs": [
    {
     "data": {
      "text/plain": "dtype('int64')"
     },
     "execution_count": 181,
     "metadata": {},
     "output_type": "execute_result"
    }
   ],
   "source": [
    "# Wheelbase\n",
    "df_types[\"Wheelbase\"] = df_types[\"Wheelbase\"].astype(int)\n",
    "df_types[\"Wheelbase\"].dtypes"
   ],
   "metadata": {
    "collapsed": false,
    "ExecuteTime": {
     "end_time": "2024-03-23T22:18:04.389706Z",
     "start_time": "2024-03-23T22:18:04.379847Z"
    }
   },
   "id": "ff97ef5c654050ab",
   "execution_count": 181
  },
  {
   "cell_type": "code",
   "outputs": [
    {
     "data": {
      "text/plain": "dtype('int64')"
     },
     "execution_count": 184,
     "metadata": {},
     "output_type": "execute_result"
    }
   ],
   "source": [
    "# Height\n",
    "df_types[\"Height\"] = df_types[\"Height\"].astype(int)\n",
    "df_types[\"Height\"].dtypes"
   ],
   "metadata": {
    "collapsed": false,
    "ExecuteTime": {
     "end_time": "2024-03-23T22:20:01.170209Z",
     "start_time": "2024-03-23T22:20:01.158892Z"
    }
   },
   "id": "6faec8df874d70ff",
   "execution_count": 184
  },
  {
   "cell_type": "code",
   "outputs": [
    {
     "data": {
      "text/plain": "dtype('int64')"
     },
     "execution_count": 186,
     "metadata": {},
     "output_type": "execute_result"
    }
   ],
   "source": [
    "# Width\n",
    "df_types[\"Width\"] = df_types[\"Width\"].astype(int)\n",
    "df_types[\"Width\"].dtypes"
   ],
   "metadata": {
    "collapsed": false,
    "ExecuteTime": {
     "end_time": "2024-03-23T22:20:38.549865Z",
     "start_time": "2024-03-23T22:20:38.536003Z"
    }
   },
   "id": "197b5f53e98eef3f",
   "execution_count": 186
  },
  {
   "cell_type": "code",
   "outputs": [
    {
     "data": {
      "text/plain": "dtype('int64')"
     },
     "execution_count": 187,
     "metadata": {},
     "output_type": "execute_result"
    }
   ],
   "source": [
    "# Length\n",
    "df_types[\"Length\"] = df_types[\"Length\"].astype(int)\n",
    "df_types[\"Length\"].dtypes"
   ],
   "metadata": {
    "collapsed": false,
    "ExecuteTime": {
     "end_time": "2024-03-23T22:21:29.055530Z",
     "start_time": "2024-03-23T22:21:29.029807Z"
    }
   },
   "id": "e24ea934834d4fb3",
   "execution_count": 187
  },
  {
   "cell_type": "code",
   "outputs": [
    {
     "name": "stdout",
     "output_type": "stream",
     "text": [
      "Seat_num dtype: int64\n",
      "Door_num dtype: int64\n"
     ]
    }
   ],
   "source": [
    "# Seat - Door\n",
    "columns_to_convert = [\"Seat_num\", \"Door_num\"]\n",
    "for column in columns_to_convert:\n",
    "    df_types[column] = df_types[column].astype(int)\n",
    "    \n",
    "for column in columns_to_convert:\n",
    "    print(f\"{column} dtype: {df_types[column].dtypes}\")"
   ],
   "metadata": {
    "collapsed": false,
    "ExecuteTime": {
     "end_time": "2024-03-23T22:24:27.430478Z",
     "start_time": "2024-03-23T22:24:27.372351Z"
    }
   },
   "id": "90518055d28a31d0",
   "execution_count": 188
  },
  {
   "cell_type": "code",
   "outputs": [],
   "source": [
    "# Average_mpg\n",
    "df_types['Average_mpg'] = df_types['Average_mpg'].str.replace(' mpg', '').astype(float)"
   ],
   "metadata": {
    "collapsed": false
   },
   "id": "170975126821fdc3",
   "execution_count": null
  },
  {
   "cell_type": "code",
   "outputs": [
    {
     "data": {
      "text/plain": "dtype('float64')"
     },
     "execution_count": 191,
     "metadata": {},
     "output_type": "execute_result"
    }
   ],
   "source": [
    "df_types[\"Average_mpg\"].dtypes"
   ],
   "metadata": {
    "collapsed": false,
    "ExecuteTime": {
     "end_time": "2024-03-23T22:27:43.679655Z",
     "start_time": "2024-03-23T22:27:43.672314Z"
    }
   },
   "id": "c408a5cc2115cce3",
   "execution_count": 191
  },
  {
   "cell_type": "code",
   "outputs": [
    {
     "data": {
      "text/plain": "dtype('float64')"
     },
     "execution_count": 192,
     "metadata": {},
     "output_type": "execute_result"
    }
   ],
   "source": [
    "# Top_speed\n",
    "df_types.rename(columns={'Top_speed': 'Top_speed_mph'}, inplace=True)\n",
    "df_types['Top_speed_mph'] = df_types['Top_speed_mph'].str.replace(' mph', '').astype(float)\n",
    "df_types['Top_speed_mph'].dtypes"
   ],
   "metadata": {
    "collapsed": false,
    "ExecuteTime": {
     "end_time": "2024-03-23T22:30:17.894708Z",
     "start_time": "2024-03-23T22:30:17.651814Z"
    }
   },
   "id": "ceffae0ad9d2fa1c",
   "execution_count": 192
  },
  {
   "cell_type": "markdown",
   "source": [
    "## Change variable names"
   ],
   "metadata": {
    "collapsed": false
   },
   "id": "6069625323eb7652"
  },
  {
   "cell_type": "code",
   "outputs": [
    {
     "data": {
      "text/plain": "Index(['Maker', 'Genmodel', 'Adv_year', 'Adv_month', 'Color', 'Reg_year',\n       'Bodytype', 'Runned_Miles', 'Engin_size', 'Gearbox', 'Fuel_type',\n       'Price', 'Engine_power', 'Annual_Tax', 'Wheelbase', 'Height', 'Width',\n       'Length', 'Average_mpg', 'Top_speed_mph', 'Seat_num', 'Door_num'],\n      dtype='object')"
     },
     "execution_count": 193,
     "metadata": {},
     "output_type": "execute_result"
    }
   ],
   "source": [
    "df_types.columns"
   ],
   "metadata": {
    "collapsed": false,
    "ExecuteTime": {
     "end_time": "2024-03-23T22:30:34.599359Z",
     "start_time": "2024-03-23T22:30:34.576399Z"
    }
   },
   "id": "a26cef408993b526",
   "execution_count": 193
  },
  {
   "cell_type": "code",
   "outputs": [],
   "source": [
    "df_types.rename(columns={\"Genmodel\": \"Model\", \"Reg_year\": \"Selling_year\", \"Runned_Miles\": \"Mileage\", \"Engin_size\": \"Engine_size\"}, inplace=True)"
   ],
   "metadata": {
    "collapsed": false,
    "ExecuteTime": {
     "end_time": "2024-03-23T22:43:37.480656Z",
     "start_time": "2024-03-23T22:43:37.423730Z"
    }
   },
   "id": "a238843874864f81",
   "execution_count": 194
  },
  {
   "cell_type": "code",
   "outputs": [
    {
     "data": {
      "text/plain": "Index(['Maker', 'Model', 'Adv_year', 'Adv_month', 'Color', 'Selling_year',\n       'Bodytype', 'Mileage', 'Engine_size', 'Gearbox', 'Fuel_type', 'Price',\n       'Engine_power', 'Annual_Tax', 'Wheelbase', 'Height', 'Width', 'Length',\n       'Average_mpg', 'Top_speed_mph', 'Seat_num', 'Door_num'],\n      dtype='object')"
     },
     "execution_count": 195,
     "metadata": {},
     "output_type": "execute_result"
    }
   ],
   "source": [
    "df_types.columns"
   ],
   "metadata": {
    "collapsed": false,
    "ExecuteTime": {
     "end_time": "2024-03-23T22:43:44.781202Z",
     "start_time": "2024-03-23T22:43:44.769807Z"
    }
   },
   "id": "9cbd0cedbd10ff47",
   "execution_count": 195
  },
  {
   "cell_type": "code",
   "outputs": [],
   "source": [
    "df_types.to_csv('../data/cars.csv', index=False)"
   ],
   "metadata": {
    "collapsed": false,
    "ExecuteTime": {
     "end_time": "2024-03-23T22:44:51.700547Z",
     "start_time": "2024-03-23T22:44:48.778428Z"
    }
   },
   "id": "3ffc9cf796c9bd83",
   "execution_count": 196
  }
 ],
 "metadata": {
  "kernelspec": {
   "display_name": "Python 3",
   "language": "python",
   "name": "python3"
  },
  "language_info": {
   "codemirror_mode": {
    "name": "ipython",
    "version": 2
   },
   "file_extension": ".py",
   "mimetype": "text/x-python",
   "name": "python",
   "nbconvert_exporter": "python",
   "pygments_lexer": "ipython2",
   "version": "2.7.6"
  }
 },
 "nbformat": 4,
 "nbformat_minor": 5
}
